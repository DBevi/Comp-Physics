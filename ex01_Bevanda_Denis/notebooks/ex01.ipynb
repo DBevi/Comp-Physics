{
 "cells": [
  {
   "cell_type": "markdown",
   "metadata": {
    "vscode": {
     "languageId": "julia"
    }
   },
   "source": [
    "# Exersice 01, Ising Model"
   ]
  },
  {
   "cell_type": "code",
   "execution_count": 12,
   "metadata": {},
   "outputs": [
    {
     "data": {
      "text/plain": [
       "3×3×3 Array{Int8, 3}:\n",
       "[:, :, 1] =\n",
       "  1  -1  1\n",
       "  1  -1  1\n",
       " -1   1  1\n",
       "\n",
       "[:, :, 2] =\n",
       " -1  -1   1\n",
       " -1   1  -1\n",
       "  1   1  -1\n",
       "\n",
       "[:, :, 3] =\n",
       "  1   1  1\n",
       "  1  -1  1\n",
       " -1   1  1"
      ]
     },
     "metadata": {},
     "output_type": "display_data"
    }
   ],
   "source": [
    "using DrWatson\n",
    "@quickactivate\"ex01_Bevanda_Denis\"\n",
    "include(srcdir(\"H_sum.jl\"))\n",
    "include(srcdir(\"metropolis_alg.jl\"))\n",
    "using Plots\n",
    "using Statistics\n",
    "using Random\n",
    "\n",
    "# initialize the parameters and generate nxnxn Array filled with randomized configuration of values -1 (spin down) and 1 (spin up)\n",
    "\n",
    "n = 3\n",
    "n_row = n\n",
    "n_column = n\n",
    "n_depth = n\n",
    "J = 1\n",
    "B = 0\n",
    "k_b = 1\n",
    "βs = range(0.1,2.5,step=0.02)                               \n",
    "βs = collect(βs)                # create Array of different β values, β = 1/(k_b*T)\n",
    "niters = 300000                 # iteration times\n",
    "\n",
    "spins_lattice = rand(Int8[-1, 1], n_row, n_column, n_depth)  "
   ]
  },
  {
   "cell_type": "markdown",
   "metadata": {},
   "source": [
    "With the Hamiltonian we can calculate the energy of an initialized matrix.\n",
    "The magnetization can also be calculated"
   ]
  },
  {
   "cell_type": "code",
   "execution_count": 13,
   "metadata": {},
   "outputs": [
    {
     "data": {
      "text/plain": [
       "14"
      ]
     },
     "metadata": {},
     "output_type": "display_data"
    }
   ],
   "source": [
    "H = Hamiltonian(spins_lattice, J, B)\n",
    "M = Magnetization(lattice)"
   ]
  },
  {
   "cell_type": "markdown",
   "metadata": {},
   "source": [
    "The next crucial step is the implementation of the Metropolis algorithm."
   ]
  },
  {
   "cell_type": "code",
   "execution_count": null,
   "metadata": {},
   "outputs": [],
   "source": [
    "#=\n",
    "# run the algorithm once for test purposes \n",
    "β = 0.7\n",
    "energy, magnetization = MetropolisAlgo(spins_lattice, niters, β, J, B)\n",
    "\n",
    "x1 = range(0, niters-1)\n",
    "x2 = range(0, niters-1)\n",
    "y1 = energy\n",
    "y2 = magnetization\n",
    "plot([x1 x2], [y1 y2], xlabel=\"Iteration Times\", ylabel=[\"Energy\" \"Magnetization\"], layout=(2,1))\n",
    "=#"
   ]
  },
  {
   "cell_type": "markdown",
   "metadata": {},
   "source": [
    "The energies and magnetizations and their mean/std values for different β-values must then be calculated. \n",
    "The results are plotted in a function over the temperature"
   ]
  },
  {
   "cell_type": "code",
   "execution_count": null,
   "metadata": {},
   "outputs": [],
   "source": [
    "E_means, E_stds, m_means, m_stds = getMeans_Energy_Spin_OverTemp(spins_lattice, niters, βs, J, B)\n",
    "\n",
    "# plot the results over the Temperatur T=1/(k_b*β)\n",
    "x1 = 1 ./ (k_b .* βs)\n",
    "y1 = abs.(m_means)\n",
    "p1 = plot(x1, y1, xlabel=\"Temperatur\", ylabel=\"Magnetization\")\n",
    "display(p1)\n",
    "\n",
    "x2 = 1 ./ (k_b .* βs)\n",
    "y2 = E_means\n",
    "p2 = plot(x2, y2, xlabel=\"Temperatur\", ylabel=\"Energy\")\n",
    "display(p2)\n",
    "\n",
    "x3 = 1 ./ (k_b .* βs)\n",
    "y3 = (E_stds.^2) .* ((k_b.*βs).^2)\n",
    "p3 = plot(x3, y3, xlabel=\"Temperatur\", ylabel=\"Cv\")\n",
    "display(p3)\n",
    "\n",
    "x4 = 1 ./ (k_b .* βs)\n",
    "y4 = (m_stds.^2) .* ((k_b.*βs).^2)\n",
    "p4 = plot(x4, y4, xlabel=\"Temperatur\", ylabel=\"χ\")\n",
    "display(p4)\n"
   ]
  },
  {
   "cell_type": "markdown",
   "metadata": {},
   "source": [
    "For J=1 the critical temperature is somewhere around Tc=~5K"
   ]
  }
 ],
 "metadata": {
  "kernelspec": {
   "display_name": "Julia 1.10.2",
   "language": "julia",
   "name": "julia-1.10"
  },
  "language_info": {
   "file_extension": ".jl",
   "mimetype": "application/julia",
   "name": "julia",
   "version": "1.10.2"
  }
 },
 "nbformat": 4,
 "nbformat_minor": 2
}
